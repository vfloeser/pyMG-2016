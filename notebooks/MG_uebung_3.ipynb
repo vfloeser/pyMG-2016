{
 "cells": [
  {
   "cell_type": "markdown",
   "metadata": {},
   "source": [
    "<center> \n",
    "<h1> Mehrgittermethoden </h1> \n",
    "<h2> Übungsaufgaben </h2>\n",
    "<h3> Robert Speck & Dieter Moser, Sommersemester 2016 </h3>\n",
    "</center>\n",
    "___\n"
   ]
  },
  {
   "cell_type": "markdown",
   "metadata": {},
   "source": [
    "### Das Helmholtz-Problem ###\n",
    "\n",
    "1. Implementieren Sie das 1D Helmholtz-Problem $-\\Delta u - \\sigma u = 0$, $u(0) = u(1) = 0$ als neue Problem-Klasse. Dokumentieren Sie Ihren Code angemessen mit Hilfe des Sphinx-Frameworks. Nehmen Sie das Poisson-Problem als Vorlage.\n",
    "1. Schreiben Sie ein Skript, welches für festes $h$ aber für verschiedene $\\sigma\\in[0,50]$ solange V-Zyklen  ausführt, bis eine Residuumstoleranz von $10^{-10}$ erreicht wird. Konvergiert der Mehrgitter-Algorithmus immer? Plotten Sie die Anzahl der Iterationen gegen $\\sigma$ und interpretieren Sie das Ergebnis. \n",
    "1. Wählen Sie nun $\\sigma\\in[-50,0]$. Was stellen Sie fest?\n",
    "\n",
    "Hinweis: Im `bin`-Ordner gibt die Datei `mg_poisson_test.py`, in dem der MG-Löser testweise aufgerufen wird. \n",
    "\n",
    "Erstellen Sie einen Release (welches auch das bearbeitete Notebook enthält) und reichen Sie den Link zum Release ein. Bei Einreichung wird dieses Notebook ausgeführt und erzeugt eine html-Version, die dann zur Korrektur genutzt wird. Achten Sie daher darauf, dass das Notebook ohne Fehler ausführbar ist und alle gewünschten Lösungen/Erklärungen enthält. "
   ]
  },
  {
   "cell_type": "code",
   "execution_count": 8,
   "metadata": {
    "collapsed": false
   },
   "outputs": [
    {
     "data": {
      "image/png": "[encoded data removed]",
      "text/plain": [
       "<matplotlib.figure.Figure at 0x10c6893c8>"
      ]
     },
     "metadata": {},
     "output_type": "display_data"
    }
   ],
   "source": [
    "%matplotlib inline\n",
    "%run ../bin/mg_helmholtz_test.py"
   ]
  },
  {
   "cell_type": "markdown",
   "metadata": {},
   "source": [
    "### Der FMG-Zyklus (\"Live-Aufgabe\")###\n",
    "\n",
    "Implementieren Sie entweder die rekursive oder die nicht-rekursive Version des FMG-Prediktors mit anschließenden V-Zyklen. Fügen Sie die Funktionalität in die `MyMultigrid`-Klasse ein. Stellen Sie die Entwicklung des Fehlers für das Poisson-Problem grafisch dar, indem Sie für jedes Level (z.B. nach der Grobgitter-Korrektur) den Fehler über die Freiheitsgrade plotten."
   ]
  },
  {
   "cell_type": "markdown",
   "metadata": {},
   "source": [
    "### Über zyklische Matrizen (Teil 1)\n",
    "Sei $A$ von der Gestalt\n",
    "$$A:=\\begin{pmatrix} a_0&a_{n-1}&a_{n-2}&\\ldots&a_1\\\\ a_1&a_0&a_{n-1}&\\ldots&a_2\\\\ a_2&a_1&a_0&\\ldots&a_3\\\\ &\\ddots&\\ddots&\\ddots\\\\ a_{n-1}&a_{n-2}&a_{n-3}&\\ldots&a_0\\end{pmatrix}. $$\n",
    "\n",
    "1. Berechnen Sie das charakteristische Polynom, die Eigenwerte, Eigenvektoren und die Determinante von $A$.\n",
    "1. Seien $B$ und $C$ zyklische miteinander kommutierende Matrizen mit den Eigenwerten $\\{\\beta_k\\},\\{\\zeta_k\\}$.\n",
    "   Was sind die Eigenwerte von $BC$.\n",
    "1. Zeigen Sie, dass der Raum der zyklischen Matrizen ein Untervektorraum des $K^{N \\times N}$\n"
   ]
  },
  {
   "cell_type": "markdown",
   "metadata": {},
   "source": [
    "### Fourier Reihen \n",
    "\n",
    "Sei $\\{t_k\\}_{-\\infty}^{\\infty}$ eine absolut summierbare Folge, d.h. $\\sum_{k=-\\infty}^{\\infty}|t_k| < \\infty$.\n",
    "Sei desweiteren $f(\\lambda) = \\lim_{n \\to \\infty} \\sum_{k=-n}^{n}t_k e^{ik\\lambda}$.\n",
    "\n",
    "1. Zeigen Sie, dass $S_n(\\lambda) = \\sum_{k=-n}^{n}t_k e^{ik\\lambda}$ gleichmässig gegen $f(\\lambda)$ konvergiert.\n",
    "1. Folgern Sie, dass $f(\\lambda)$ Riemann-integrierbar und beschränkt auf $[0,2\\pi]$ ist.\n",
    "1. Finden Sie mithilfe der inversen Fouriertransformation eine Darstellung von $t_k$ unter Verwendung von $f(\\lambda)$.\n",
    "\n",
    "Wir nennen $f(\\lambda)$ eine Funktion der *Wiener Klasse*.\n"
   ]
  }
 ],
 "metadata": {
  "kernelspec": {
   "display_name": "Python 3",
   "language": "python",
   "name": "python3"
  },
  "language_info": {
   "codemirror_mode": {
    "name": "ipython",
    "version": 3
   },
   "file_extension": ".py",
   "mimetype": "text/x-python",
   "name": "python",
   "nbconvert_exporter": "python",
   "pygments_lexer": "ipython3",
   "version": "3.4.4"
  }
 },
 "nbformat": 4,
 "nbformat_minor": 0
}
